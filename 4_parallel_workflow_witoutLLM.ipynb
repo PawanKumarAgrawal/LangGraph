{
 "cells": [
  {
   "cell_type": "code",
   "execution_count": 52,
   "id": "b2014f2a",
   "metadata": {},
   "outputs": [],
   "source": [
    "from langgraph.graph import StateGraph,  END, START\n",
    "from typing import TypedDict"
   ]
  },
  {
   "cell_type": "code",
   "execution_count": 53,
   "id": "5582c4c7",
   "metadata": {},
   "outputs": [],
   "source": [
    "# ----------- 1. State Definition -----------\n",
    "\n",
    "class MarksState(TypedDict):\n",
    "    Physics: float\n",
    "    Chemistry: float\n",
    "    Maths: float\n",
    "\n",
    "    max_subject: str\n",
    "    max_marks: float\n",
    "\n",
    "    min_subject: str\n",
    "    min_marks: float\n",
    "    \n",
    "    avg_marks: float\n",
    "    summary: str"
   ]
  },
  {
   "cell_type": "code",
   "execution_count": 54,
   "id": "a52fabd1",
   "metadata": {},
   "outputs": [],
   "source": [
    "def find_max_marks(state: MarksState) -> MarksState:\n",
    "    physics = state[\"Physics\"]\n",
    "    chemistry = state[\"Chemistry\"]\n",
    "    maths = state[\"Maths\"]\n",
    "\n",
    "    if physics >= chemistry and physics >= maths:\n",
    "        return {\"max_subject\": \"Physics\", \"max_marks\": physics}\n",
    "    elif chemistry >= physics and chemistry >= maths:\n",
    "        return {\"max_subject\": \"Chemistry\", \"max_marks\": chemistry}\n",
    "    else:\n",
    "        return {\"max_subject\": \"Maths\", \"max_marks\": maths}"
   ]
  },
  {
   "cell_type": "code",
   "execution_count": 55,
   "id": "5c36c5f8",
   "metadata": {},
   "outputs": [],
   "source": [
    "def find_min_marks(state: MarksState) -> MarksState:\n",
    "    physics = state[\"Physics\"]\n",
    "    chemistry = state[\"Chemistry\"]\n",
    "    maths = state[\"Maths\"]\n",
    "\n",
    "    if physics <= chemistry and physics <= maths:\n",
    "        return {\"min_subject\": \"Physics\", \"min_marks\": physics}\n",
    "    elif chemistry <= physics and chemistry <= maths:\n",
    "        return {\"min_subject\": \"Chemistry\", \"min_marks\": chemistry}\n",
    "    else:\n",
    "        return {\"min_subject\": \"Maths\", \"min_marks\": maths}"
   ]
  },
  {
   "cell_type": "code",
   "execution_count": 56,
   "id": "817fcc51",
   "metadata": {},
   "outputs": [],
   "source": [
    "def calculate_average(state: MarksState) -> MarksState:\n",
    "    avg = (state[\"Physics\"] + state[\"Chemistry\"] + state[\"Maths\"]) / 3\n",
    "    state[\"avg_marks\"] = round(avg, 2)\n",
    "    return state"
   ]
  },
  {
   "cell_type": "code",
   "execution_count": 57,
   "id": "826aa1a4",
   "metadata": {},
   "outputs": [],
   "source": [
    "def summarize(state: MarksState) -> MarksState:\n",
    "    state[\"summary\"] = (\n",
    "        f\"🔹 Highest marks in {state['max_subject']} ({state['max_marks']})\\n\"\n",
    "        f\"🔹 Lowest marks in {state['min_subject']} ({state['min_marks']})\\n\"\n",
    "        f\"🔹 Average marks: {state['avg_marks']}\"\n",
    "    )\n",
    "    return state"
   ]
  },
  {
   "cell_type": "code",
   "execution_count": 58,
   "id": "368023e2",
   "metadata": {},
   "outputs": [
    {
     "data": {
      "text/plain": [
       "<langgraph.graph.state.StateGraph at 0x1df931aa2d0>"
      ]
     },
     "execution_count": 58,
     "metadata": {},
     "output_type": "execute_result"
    }
   ],
   "source": [
    "workflow = StateGraph(MarksState)\n",
    "\n",
    "# Register all nodes\n",
    "workflow.add_node(\"Find_Max\", find_max_marks)\n",
    "workflow.add_node(\"Find_Min\", find_min_marks)\n",
    "workflow.add_node(\"Find_Average\", calculate_average)\n",
    "workflow.add_node(\"Summary\", summarize)\n",
    "\n",
    "\n",
    "# Add Edges\n",
    "# Parallel branches\n",
    "workflow.add_edge(START, \"Find_Max\")\n",
    "workflow.add_edge(START, \"Find_Min\")\n",
    "workflow.add_edge(START, \"Find_Average\")\n",
    "\n",
    "# Join at summary\n",
    "workflow.add_edge(\"Find_Max\", \"Summary\")\n",
    "workflow.add_edge(\"Find_Min\", \"Summary\")\n",
    "workflow.add_edge(\"Find_Average\", \"Summary\")\n",
    "\n",
    "# End node\n",
    "workflow.add_edge(\"Summary\", END)\n"
   ]
  },
  {
   "cell_type": "code",
   "execution_count": 59,
   "id": "286c4e36",
   "metadata": {},
   "outputs": [],
   "source": [
    "\n",
    "# Compile the graph\n",
    "graph = workflow.compile()"
   ]
  },
  {
   "cell_type": "code",
   "execution_count": 60,
   "id": "02cb1b36",
   "metadata": {},
   "outputs": [
    {
     "data": {
      "image/png": "[encoded data removed]",
      "text/plain": [
       "<IPython.core.display.Image object>"
      ]
     },
     "execution_count": 60,
     "metadata": {},
     "output_type": "execute_result"
    }
   ],
   "source": [
    "# Draw the Graph\n",
    "from IPython.display import Image\n",
    "Image(graph.get_graph().draw_mermaid_png())"
   ]
  },
  {
   "cell_type": "code",
   "execution_count": 61,
   "id": "d4e1ba4c",
   "metadata": {},
   "outputs": [],
   "source": [
    "input_data = {\n",
    "    \"Physics\": 92.5,\n",
    "    \"Chemistry\": 85.5,\n",
    "    \"Maths\": 78\n",
    "}\n",
    "\n",
    "result = graph.invoke(input_data)"
   ]
  },
  {
   "cell_type": "code",
   "execution_count": 62,
   "id": "49ee30b4",
   "metadata": {},
   "outputs": [
    {
     "name": "stdout",
     "output_type": "stream",
     "text": [
      "🔹 Highest marks in Physics (92.5)\n",
      "🔹 Lowest marks in Maths (78)\n",
      "🔹 Average marks: 85.33\n"
     ]
    }
   ],
   "source": [
    "print(result[\"summary\"])"
   ]
  }
 ],
 "metadata": {
  "kernelspec": {
   "display_name": ".venv (3.11.9)",
   "language": "python",
   "name": "python3"
  },
  "language_info": {
   "codemirror_mode": {
    "name": "ipython",
    "version": 3
   },
   "file_extension": ".py",
   "mimetype": "text/x-python",
   "name": "python",
   "nbconvert_exporter": "python",
   "pygments_lexer": "ipython3",
   "version": "3.11.9"
  }
 },
 "nbformat": 4,
 "nbformat_minor": 5
}
