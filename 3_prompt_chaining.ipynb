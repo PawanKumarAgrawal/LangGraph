{
 "cells": [
  {
   "cell_type": "code",
   "execution_count": 1,
   "id": "2f21ec3c",
   "metadata": {},
   "outputs": [],
   "source": [
    "from langchain_huggingface import ChatHuggingFace, HuggingFaceEndpoint\n",
    "from dotenv import load_dotenv\n",
    "\n",
    "from langgraph.graph import StateGraph, START, END\n",
    "from typing import TypedDict"
   ]
  },
  {
   "cell_type": "code",
   "execution_count": 2,
   "id": "8ab94ffd",
   "metadata": {},
   "outputs": [
    {
     "data": {
      "text/plain": [
       "True"
      ]
     },
     "execution_count": 2,
     "metadata": {},
     "output_type": "execute_result"
    }
   ],
   "source": [
    "load_dotenv()"
   ]
  },
  {
   "cell_type": "code",
   "execution_count": 3,
   "id": "514205b7",
   "metadata": {},
   "outputs": [
    {
     "name": "stderr",
     "output_type": "stream",
     "text": [
      "e:\\04_LangGraph\\.venv\\Lib\\site-packages\\tqdm\\auto.py:21: TqdmWarning: IProgress not found. Please update jupyter and ipywidgets. See https://ipywidgets.readthedocs.io/en/stable/user_install.html\n",
      "  from .autonotebook import tqdm as notebook_tqdm\n"
     ]
    }
   ],
   "source": [
    "llm = HuggingFaceEndpoint(\n",
    "                            repo_id=\"mistralai/Mistral-7B-Instruct-v0.2\",\n",
    "                            task=\"text-generation\"\n",
    "                        )\n",
    "\n",
    "model = ChatHuggingFace(llm = llm)"
   ]
  },
  {
   "cell_type": "code",
   "execution_count": 4,
   "id": "7a90e2fe",
   "metadata": {},
   "outputs": [],
   "source": [
    "# --- 1. Define State ---\n",
    "class MyState(TypedDict):\n",
    "    input_text: str\n",
    "    summary: str\n",
    "    keywords: list"
   ]
  },
  {
   "cell_type": "code",
   "execution_count": 5,
   "id": "4f3bf432",
   "metadata": {},
   "outputs": [],
   "source": [
    "# --- 2. Define Nodes ---\n",
    "def summarize(state: MyState) -> MyState:\n",
    "    input_text = state['input_text']\n",
    "    prompt = f\"Summarize this: {input_text}\"\n",
    "    summary = model.invoke(prompt).content\n",
    "    state[\"summary\"] = summary\n",
    "    return state"
   ]
  },
  {
   "cell_type": "code",
   "execution_count": 6,
   "id": "7c65448f",
   "metadata": {},
   "outputs": [],
   "source": [
    "def extract_keywords(state: MyState) -> MyState:\n",
    "    summary = state['summary']\n",
    "    prompt = f\"Extract 5 important keywords: {summary}\"\n",
    "    keywords = model.invoke(prompt).content\n",
    "    state[\"keywords\"] = keywords\n",
    "    return state"
   ]
  },
  {
   "cell_type": "code",
   "execution_count": 7,
   "id": "0c9051ad",
   "metadata": {},
   "outputs": [],
   "source": [
    "# --- 3. Build Graph ---\n",
    "builder = StateGraph(MyState)\n",
    "builder.add_node(\"summarize\", summarize)\n",
    "builder.add_node(\"extract_keywords\", extract_keywords)\n",
    "\n",
    "builder.add_edge(START, \"summarize\")\n",
    "builder.add_edge(\"summarize\", \"extract_keywords\")\n",
    "builder.add_edge(\"extract_keywords\", END)\n",
    "\n",
    "workflow = builder.compile()\n"
   ]
  },
  {
   "cell_type": "code",
   "execution_count": 8,
   "id": "31d254c7",
   "metadata": {},
   "outputs": [],
   "source": [
    "# --- 4. Run ---\n",
    "input_data = {\n",
    "    \"input_text\": \"Machine Learning is a part of Artificial Intelligence that allows computers to learn from data and make decisions without being directly programmed. Just like humans learn from experience, machines learn by analyzing large amounts of data and identifying patterns. Over time, they get better at making predictions or taking actions based on what they’ve learned. Machine learning is used in many real-world applications like movie recommendations on Netflix, fraud detection in banks, self-driving cars, and voice assistants. It helps in automating tasks and improving efficiency in various industries. In short, it's about making machines smarter using data.\"\n",
    "}\n",
    "\n",
    "output = workflow.invoke(input_data)"
   ]
  },
  {
   "cell_type": "code",
   "execution_count": 9,
   "id": "506b1175",
   "metadata": {},
   "outputs": [
    {
     "name": "stdout",
     "output_type": "stream",
     "text": [
      " Machine Learning is a subfield of Artificial Intelligence where systems are able to learn and make decisions with minimal human intervention. They learn by analyzing large data sets, identifying patterns, and making predictions or taking actions based on the learned patterns. Applications of Machine Learning include movie recommendations, fraud detection, self-driving cars, and voice assistants. Its primary objective is to make machines intelligent by enabling them to learn from data, ultimately leading to automation and efficiency improvements.\n"
     ]
    }
   ],
   "source": [
    "print(output['summary'])"
   ]
  },
  {
   "cell_type": "code",
   "execution_count": 10,
   "id": "d59b6bfb",
   "metadata": {},
   "outputs": [
    {
     "name": "stdout",
     "output_type": "stream",
     "text": [
      " 1. Machine Learning\n",
      "2. Artificial Intelligence\n",
      "3. Minimal human intervention\n",
      "4. Data sets\n",
      "5. Automation and efficiency improvements.\n",
      "\n",
      "Additionally, key processes mentioned are: analyzing large data sets, identifying patterns, making predictions or taking actions, and enabling machines to learn from data. Other applications mentioned are movie recommendations, fraud detection, self-driving cars, and voice assistants.\n"
     ]
    }
   ],
   "source": [
    "print(output['keywords'])"
   ]
  },
  {
   "cell_type": "code",
   "execution_count": 11,
   "id": "5f7be1a2",
   "metadata": {},
   "outputs": [
    {
     "data": {
      "image/png": "[encoded data removed]",
      "text/plain": [
       "<IPython.core.display.Image object>"
      ]
     },
     "execution_count": 11,
     "metadata": {},
     "output_type": "execute_result"
    }
   ],
   "source": [
    "# Draw the Graph\n",
    "from IPython.display import Image\n",
    "Image(workflow.get_graph().draw_mermaid_png())"
   ]
  }
 ],
 "metadata": {
  "kernelspec": {
   "display_name": ".venv (3.11.9)",
   "language": "python",
   "name": "python3"
  },
  "language_info": {
   "codemirror_mode": {
    "name": "ipython",
    "version": 3
   },
   "file_extension": ".py",
   "mimetype": "text/x-python",
   "name": "python",
   "nbconvert_exporter": "python",
   "pygments_lexer": "ipython3",
   "version": "3.11.9"
  }
 },
 "nbformat": 4,
 "nbformat_minor": 5
}
